{
 "cells": [
  {
   "cell_type": "code",
   "execution_count": null,
   "metadata": {},
   "outputs": [],
   "source": [
    "! pip install "
   ]
  },
  {
   "cell_type": "code",
   "execution_count": 1,
   "metadata": {},
   "outputs": [],
   "source": [
    "import keras\n",
    "from keras.models import Sequential\n",
    "from keras.layers import Conv2D\n",
    "from keras.layers import MaxPooling2D\n",
    "from keras.layers import Flatten\n",
    "from keras.layers import Dense,Dropout"
   ]
  },
  {
   "cell_type": "code",
   "execution_count": 2,
   "metadata": {},
   "outputs": [],
   "source": [
    "classifier = Sequential()"
   ]
  },
  {
   "cell_type": "code",
   "execution_count": 3,
   "metadata": {},
   "outputs": [],
   "source": [
    "classifier.add(Conv2D(32,(3,3),input_shape=(64,64,3),activation = 'relu'))"
   ]
  },
  {
   "cell_type": "code",
   "execution_count": 4,
   "metadata": {},
   "outputs": [],
   "source": [
    "classifier.add(MaxPooling2D(pool_size=(2,2)))"
   ]
  },
  {
   "cell_type": "code",
   "execution_count": 5,
   "metadata": {},
   "outputs": [],
   "source": [
    "classifier.add(Conv2D(32,(3,3),activation='relu'))\n",
    "classifier.add(MaxPooling2D(pool_size=(2,2)))"
   ]
  },
  {
   "cell_type": "code",
   "execution_count": 6,
   "metadata": {},
   "outputs": [],
   "source": [
    "classifier.add(Flatten())"
   ]
  },
  {
   "cell_type": "code",
   "execution_count": 7,
   "metadata": {},
   "outputs": [],
   "source": [
    "classifier.add(Dense(units=128,activation='relu'))"
   ]
  },
  {
   "cell_type": "code",
   "execution_count": 8,
   "metadata": {},
   "outputs": [],
   "source": [
    "classifier.add(Dropout(0.6))"
   ]
  },
  {
   "cell_type": "code",
   "execution_count": 9,
   "metadata": {},
   "outputs": [],
   "source": [
    "classifier.add(Dense(units=64,activation='relu'))\n",
    "classifier.add(Dropout(0.3))\n",
    "classifier.add(Dense(units=1,activation='sigmoid'))"
   ]
  },
  {
   "cell_type": "code",
   "execution_count": 10,
   "metadata": {},
   "outputs": [
    {
     "name": "stdout",
     "output_type": "stream",
     "text": [
      "Model: \"sequential\"\n",
      "_________________________________________________________________\n",
      "Layer (type)                 Output Shape              Param #   \n",
      "=================================================================\n",
      "conv2d (Conv2D)              (None, 62, 62, 32)        896       \n",
      "_________________________________________________________________\n",
      "max_pooling2d (MaxPooling2D) (None, 31, 31, 32)        0         \n",
      "_________________________________________________________________\n",
      "conv2d_1 (Conv2D)            (None, 29, 29, 32)        9248      \n",
      "_________________________________________________________________\n",
      "max_pooling2d_1 (MaxPooling2 (None, 14, 14, 32)        0         \n",
      "_________________________________________________________________\n",
      "flatten (Flatten)            (None, 6272)              0         \n",
      "_________________________________________________________________\n",
      "dense (Dense)                (None, 128)               802944    \n",
      "_________________________________________________________________\n",
      "dropout (Dropout)            (None, 128)               0         \n",
      "_________________________________________________________________\n",
      "dense_1 (Dense)              (None, 64)                8256      \n",
      "_________________________________________________________________\n",
      "dropout_1 (Dropout)          (None, 64)                0         \n",
      "_________________________________________________________________\n",
      "dense_2 (Dense)              (None, 1)                 65        \n",
      "=================================================================\n",
      "Total params: 821,409\n",
      "Trainable params: 821,409\n",
      "Non-trainable params: 0\n",
      "_________________________________________________________________\n"
     ]
    }
   ],
   "source": [
    "classifier.summary()"
   ]
  },
  {
   "cell_type": "code",
   "execution_count": 11,
   "metadata": {},
   "outputs": [],
   "source": [
    "classifier.compile(optimizer='adam',loss='binary_crossentropy',metrics=['accuracy'])"
   ]
  },
  {
   "cell_type": "code",
   "execution_count": 12,
   "metadata": {},
   "outputs": [],
   "source": [
    "from keras.preprocessing.image import ImageDataGenerator"
   ]
  },
  {
   "cell_type": "code",
   "execution_count": 13,
   "metadata": {},
   "outputs": [],
   "source": [
    "training_datagen=ImageDataGenerator(rescale=1./255,shear_range=0.2,zoom_range=0.2,horizontal_flip=True)"
   ]
  },
  {
   "cell_type": "code",
   "execution_count": 14,
   "metadata": {},
   "outputs": [],
   "source": [
    "testing_datagen = ImageDataGenerator(rescale=1./255)"
   ]
  },
  {
   "cell_type": "code",
   "execution_count": 15,
   "metadata": {},
   "outputs": [
    {
     "name": "stdout",
     "output_type": "stream",
     "text": [
      "Found 8000 images belonging to 2 classes.\n"
     ]
    }
   ],
   "source": [
    "training_set = training_datagen.flow_from_directory('dataset/training_set/', target_size=(64,64),batch_size=32,class_mode='binary')"
   ]
  },
  {
   "cell_type": "code",
   "execution_count": 16,
   "metadata": {},
   "outputs": [
    {
     "name": "stdout",
     "output_type": "stream",
     "text": [
      "Found 2000 images belonging to 2 classes.\n"
     ]
    }
   ],
   "source": [
    "test_set= testing_datagen.flow_from_directory('dataset/test_set/',target_size=(64,64),batch_size=32,class_mode='binary')"
   ]
  },
  {
   "cell_type": "code",
   "execution_count": 17,
   "metadata": {},
   "outputs": [
    {
     "name": "stdout",
     "output_type": "stream",
     "text": [
      "WARNING:tensorflow:From <ipython-input-17-48ebe8693864>:1: Model.fit_generator (from tensorflow.python.keras.engine.training) is deprecated and will be removed in a future version.\n",
      "Instructions for updating:\n",
      "Please use Model.fit, which supports generators.\n",
      "Epoch 1/25\n",
      "250/250 [==============================] - 45s 178ms/step - loss: 0.6921 - accuracy: 0.5173 - val_loss: 0.6895 - val_accuracy: 0.5170\n",
      "Epoch 2/25\n",
      "250/250 [==============================] - 37s 149ms/step - loss: 0.6672 - accuracy: 0.6062 - val_loss: 0.6431 - val_accuracy: 0.6520\n",
      "Epoch 3/25\n",
      "250/250 [==============================] - 37s 148ms/step - loss: 0.6319 - accuracy: 0.6522 - val_loss: 0.6136 - val_accuracy: 0.6865\n",
      "Epoch 4/25\n",
      "250/250 [==============================] - 37s 148ms/step - loss: 0.6059 - accuracy: 0.6785 - val_loss: 0.5836 - val_accuracy: 0.6995\n",
      "Epoch 5/25\n",
      "250/250 [==============================] - 38s 152ms/step - loss: 0.5860 - accuracy: 0.6892 - val_loss: 0.5610 - val_accuracy: 0.7090\n",
      "Epoch 6/25\n",
      "250/250 [==============================] - 37s 149ms/step - loss: 0.5653 - accuracy: 0.7013 - val_loss: 0.5504 - val_accuracy: 0.7210\n",
      "Epoch 7/25\n",
      "250/250 [==============================] - 37s 148ms/step - loss: 0.5530 - accuracy: 0.7185 - val_loss: 0.5384 - val_accuracy: 0.7245\n",
      "Epoch 8/25\n",
      "250/250 [==============================] - 37s 148ms/step - loss: 0.5412 - accuracy: 0.7266 - val_loss: 0.5131 - val_accuracy: 0.7395\n",
      "Epoch 9/25\n",
      "250/250 [==============================] - 44s 177ms/step - loss: 0.5235 - accuracy: 0.7430 - val_loss: 0.4995 - val_accuracy: 0.7595\n",
      "Epoch 10/25\n",
      "250/250 [==============================] - 42s 167ms/step - loss: 0.5071 - accuracy: 0.7500 - val_loss: 0.4809 - val_accuracy: 0.7695\n",
      "Epoch 11/25\n",
      "250/250 [==============================] - 41s 163ms/step - loss: 0.5000 - accuracy: 0.7540 - val_loss: 0.5028 - val_accuracy: 0.7600\n",
      "Epoch 12/25\n",
      "250/250 [==============================] - 40s 161ms/step - loss: 0.4929 - accuracy: 0.7642 - val_loss: 0.4782 - val_accuracy: 0.7630\n",
      "Epoch 13/25\n",
      "250/250 [==============================] - 39s 156ms/step - loss: 0.4778 - accuracy: 0.7759 - val_loss: 0.4656 - val_accuracy: 0.7875\n",
      "Epoch 14/25\n",
      "250/250 [==============================] - 39s 154ms/step - loss: 0.4664 - accuracy: 0.7826 - val_loss: 0.4660 - val_accuracy: 0.7780\n",
      "Epoch 15/25\n",
      "250/250 [==============================] - 40s 158ms/step - loss: 0.4531 - accuracy: 0.7874 - val_loss: 0.4845 - val_accuracy: 0.7695\n",
      "Epoch 16/25\n",
      "250/250 [==============================] - 41s 164ms/step - loss: 0.4504 - accuracy: 0.7836 - val_loss: 0.4830 - val_accuracy: 0.7765\n",
      "Epoch 17/25\n",
      "250/250 [==============================] - 45s 179ms/step - loss: 0.4438 - accuracy: 0.7911 - val_loss: 0.4559 - val_accuracy: 0.7890\n",
      "Epoch 18/25\n",
      "250/250 [==============================] - 39s 157ms/step - loss: 0.4374 - accuracy: 0.7965 - val_loss: 0.4564 - val_accuracy: 0.7915\n",
      "Epoch 19/25\n",
      "250/250 [==============================] - 39s 155ms/step - loss: 0.4331 - accuracy: 0.7965 - val_loss: 0.4792 - val_accuracy: 0.7700\n",
      "Epoch 20/25\n",
      "250/250 [==============================] - 40s 159ms/step - loss: 0.4325 - accuracy: 0.7972 - val_loss: 0.4592 - val_accuracy: 0.7925\n",
      "Epoch 21/25\n",
      "250/250 [==============================] - 41s 163ms/step - loss: 0.4194 - accuracy: 0.8049 - val_loss: 0.4629 - val_accuracy: 0.7845\n",
      "Epoch 22/25\n",
      "250/250 [==============================] - 44s 177ms/step - loss: 0.4167 - accuracy: 0.8079 - val_loss: 0.4518 - val_accuracy: 0.7895\n",
      "Epoch 23/25\n",
      "250/250 [==============================] - 42s 169ms/step - loss: 0.4077 - accuracy: 0.8160 - val_loss: 0.4374 - val_accuracy: 0.7960\n",
      "Epoch 24/25\n",
      "250/250 [==============================] - 40s 160ms/step - loss: 0.4091 - accuracy: 0.8166 - val_loss: 0.4468 - val_accuracy: 0.7970\n",
      "Epoch 25/25\n",
      "250/250 [==============================] - 42s 166ms/step - loss: 0.4025 - accuracy: 0.8151 - val_loss: 0.4521 - val_accuracy: 0.7945\n"
     ]
    },
    {
     "data": {
      "text/plain": [
       "<tensorflow.python.keras.callbacks.History at 0x1ec67db6d60>"
      ]
     },
     "execution_count": 17,
     "metadata": {},
     "output_type": "execute_result"
    }
   ],
   "source": [
    "classifier.fit_generator(training_set,steps_per_epoch=8000/32,epochs=25,validation_data=test_set,validation_steps=2000/32)"
   ]
  },
  {
   "cell_type": "code",
   "execution_count": 24,
   "metadata": {},
   "outputs": [
    {
     "name": "stdout",
     "output_type": "stream",
     "text": [
      "single_prediction/cat_or_dog_1.jpg  is a  dog\n",
      "single_prediction/cat_or_dog_2.jpg  is a  cat\n",
      "single_prediction/kinton2.jpg  is a  dog\n"
     ]
    }
   ],
   "source": [
    "import numpy as np\n",
    "from keras.preprocessing import image\n",
    "def image_validatior(image_url):\n",
    "    test_image=image.load_img(image_url,target_size=(64,64))\n",
    "    test_image=image.img_to_array(test_image)\n",
    "    test_image = np.expand_dims(test_image,axis=0)\n",
    "    \n",
    "    result=classifier.predict(test_image)\n",
    "    if result[0][0] == 1:\n",
    "        prediction='dog'\n",
    "    else:\n",
    "        prediction='cat'\n",
    "    print(image_url,'is a',prediction)\n",
    "    \n",
    "image_validator('single_prediction/cat_or_dog_1.jpg')\n",
    "image_validator('single_prediction/cat_or_dog_2.jpg')\n",
    "image_validator('single_prediction/kinton2.jpg')"
   ]
  },
  {
   "cell_type": "markdown",
   "metadata": {},
   "source": [
    "# model2"
   ]
  },
  {
   "cell_type": "code",
   "execution_count": 25,
   "metadata": {},
   "outputs": [
    {
     "name": "stdout",
     "output_type": "stream",
     "text": [
      "A local file was found, but it seems to be incomplete or outdated because the auto file hash does not match the original value of 6d6bbae143d832006294945121d1f1fc so we will re-download the data.\n",
      "Downloading data from https://storage.googleapis.com/tensorflow/keras-applications/vgg16/vgg16_weights_tf_dim_ordering_tf_kernels_notop.h5\n",
      "58892288/58889256 [==============================] - 114s 2us/step\n",
      "Model: \"sequential_1\"\n",
      "_________________________________________________________________\n",
      "Layer (type)                 Output Shape              Param #   \n",
      "=================================================================\n",
      "vgg16 (Functional)           (None, 2, 2, 512)         14714688  \n",
      "_________________________________________________________________\n",
      "flatten_1 (Flatten)          (None, 2048)              0         \n",
      "_________________________________________________________________\n",
      "dense_3 (Dense)              (None, 128)               262272    \n",
      "_________________________________________________________________\n",
      "dense_4 (Dense)              (None, 1)                 129       \n",
      "=================================================================\n",
      "Total params: 14,977,089\n",
      "Trainable params: 14,977,089\n",
      "Non-trainable params: 0\n",
      "_________________________________________________________________\n"
     ]
    }
   ],
   "source": [
    "from tensorflow.keras.applications import vgg16\n",
    "from tensorflow.keras import models, layers\n",
    "\n",
    "base_model = vgg16.VGG16(weights='imagenet', include_top=False, input_shape=(64,64,3))\n",
    "\n",
    "model = models.Sequential([\n",
    "    base_model,\n",
    "    layers.Flatten(input_shape=base_model.output_shape[1:]),\n",
    "    layers.Dense(128, activation='relu'),\n",
    "    layers.Dense(1, activation='sigmoid') # hay 10 clases posibles\n",
    "])\n",
    "\n",
    "model.compile(optimizer='adam', loss='binary_crossentropy', metrics=['accuracy'])\n",
    "\n",
    "model.summary()"
   ]
  },
  {
   "cell_type": "code",
   "execution_count": 30,
   "metadata": {},
   "outputs": [
    {
     "name": "stdout",
     "output_type": "stream",
     "text": [
      "Epoch 1/10\n",
      "100/100 [==============================] - 17s 174ms/step - loss: 0.3895 - accuracy: 0.8259 - val_loss: 0.4722 - val_accuracy: 0.7844\n",
      "Epoch 2/10\n",
      "100/100 [==============================] - 15s 153ms/step - loss: 0.3936 - accuracy: 0.8200 - val_loss: 0.4151 - val_accuracy: 0.7906\n",
      "Epoch 3/10\n",
      "100/100 [==============================] - 16s 157ms/step - loss: 0.3793 - accuracy: 0.8359 - val_loss: 0.5103 - val_accuracy: 0.7594\n",
      "Epoch 4/10\n",
      "100/100 [==============================] - 16s 157ms/step - loss: 0.4108 - accuracy: 0.8103 - val_loss: 0.4313 - val_accuracy: 0.8125\n",
      "Epoch 5/10\n",
      "100/100 [==============================] - 17s 166ms/step - loss: 0.3945 - accuracy: 0.8272 - val_loss: 0.5026 - val_accuracy: 0.7625\n",
      "Epoch 6/10\n",
      "100/100 [==============================] - 15s 153ms/step - loss: 0.4062 - accuracy: 0.8091 - val_loss: 0.4652 - val_accuracy: 0.7750\n",
      "Epoch 7/10\n",
      "100/100 [==============================] - 13s 134ms/step - loss: 0.3940 - accuracy: 0.8253 - val_loss: 0.5067 - val_accuracy: 0.7563\n",
      "Epoch 8/10\n",
      "100/100 [==============================] - 14s 137ms/step - loss: 0.3838 - accuracy: 0.8297 - val_loss: 0.4533 - val_accuracy: 0.8156\n",
      "Epoch 9/10\n",
      "100/100 [==============================] - 14s 137ms/step - loss: 0.3947 - accuracy: 0.8247 - val_loss: 0.4876 - val_accuracy: 0.7781\n",
      "Epoch 10/10\n",
      "100/100 [==============================] - 14s 136ms/step - loss: 0.3773 - accuracy: 0.8331 - val_loss: 0.3922 - val_accuracy: 0.7937\n"
     ]
    },
    {
     "data": {
      "text/plain": [
       "<tensorflow.python.keras.callbacks.History at 0x1ec6a6d1fd0>"
      ]
     },
     "execution_count": 30,
     "metadata": {},
     "output_type": "execute_result"
    }
   ],
   "source": [
    "classifier.fit_generator(training_set, steps_per_epoch=100, epochs=10, validation_data=test_set, validation_steps=10)"
   ]
  },
  {
   "cell_type": "code",
   "execution_count": 31,
   "metadata": {},
   "outputs": [
    {
     "name": "stdout",
     "output_type": "stream",
     "text": [
      "single_prediction/cat_or_dog_1.jpg  is a  dog\n",
      "single_prediction/cat_or_dog_2.jpg  is a  dog\n",
      "single_prediction/kinton2.jpg  is a  dog\n"
     ]
    }
   ],
   "source": [
    "import numpy as np\n",
    "from keras.preprocessing import image\n",
    "\n",
    "def image_validator(image_url):\n",
    "    test_image = image.load_img(image_url, target_size=(64,64))\n",
    "    test_image = image.img_to_array(test_image)\n",
    "    test_image = np.expand_dims(test_image, axis=0)\n",
    "    result = classifier.predict(test_image)\n",
    "    if result[0][0] == 1:\n",
    "        prediction = 'dog'\n",
    "    else:\n",
    "        prediction = 'cat'    \n",
    "    print(image_url, ' is a ', prediction)\n",
    "    \n",
    "image_validator('single_prediction/cat_or_dog_1.jpg')\n",
    "image_validator('single_prediction/cat_or_dog_2.jpg')\n",
    "image_validator('single_prediction/kinton2.jpg')"
   ]
  },
  {
   "cell_type": "code",
   "execution_count": null,
   "metadata": {},
   "outputs": [],
   "source": []
  }
 ],
 "metadata": {
  "kernelspec": {
   "display_name": "Python 3",
   "language": "python",
   "name": "python3"
  },
  "language_info": {
   "codemirror_mode": {
    "name": "ipython",
    "version": 3
   },
   "file_extension": ".py",
   "mimetype": "text/x-python",
   "name": "python",
   "nbconvert_exporter": "python",
   "pygments_lexer": "ipython3",
   "version": "3.8.3"
  }
 },
 "nbformat": 4,
 "nbformat_minor": 4
}
